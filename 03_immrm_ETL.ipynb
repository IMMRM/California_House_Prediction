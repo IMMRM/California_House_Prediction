{
 "cells": [
  {
   "cell_type": "markdown",
   "id": "209fbe1f",
   "metadata": {},
   "source": [
    " ### Step 0: Required Libraries"
   ]
  },
  {
   "cell_type": "code",
   "execution_count": 46,
   "id": "15d738a0",
   "metadata": {},
   "outputs": [],
   "source": [
    "import pandas as pd\n",
    "from sqlalchemy import create_engine\n",
    "import requests\n",
    "import os\n",
    "from pathlib import Path\n",
    "from src.utils.common import read_yaml\n",
    "from src.constants import SECRET_PATH"
   ]
  },
  {
   "cell_type": "markdown",
   "id": "3c6120a4",
   "metadata": {},
   "source": [
    "### Step 1: Load External Raw Data"
   ]
  },
  {
   "cell_type": "code",
   "execution_count": 47,
   "id": "454fd9fa",
   "metadata": {},
   "outputs": [
    {
     "data": {
      "application/vnd.microsoft.datawrangler.viewer.v0+json": {
       "columns": [
        {
         "name": "index",
         "rawType": "int64",
         "type": "integer"
        },
        {
         "name": "MedInc",
         "rawType": "float64",
         "type": "float"
        },
        {
         "name": "HouseAge",
         "rawType": "float64",
         "type": "float"
        },
        {
         "name": "AveRooms",
         "rawType": "float64",
         "type": "float"
        },
        {
         "name": "AveBedrms",
         "rawType": "float64",
         "type": "float"
        },
        {
         "name": "Population",
         "rawType": "float64",
         "type": "float"
        },
        {
         "name": "AveOccup",
         "rawType": "float64",
         "type": "float"
        },
        {
         "name": "Latitude",
         "rawType": "float64",
         "type": "float"
        },
        {
         "name": "Longitude",
         "rawType": "float64",
         "type": "float"
        },
        {
         "name": "price",
         "rawType": "float64",
         "type": "float"
        }
       ],
       "ref": "c8090738-c026-4ffe-aa3c-afbdc06dfdf9",
       "rows": [
        [
         "0",
         "8.3252",
         "41.0",
         "6.984126984126984",
         "1.0238095238095235",
         "322.0",
         "2.555555555555556",
         "37.88",
         "-122.23",
         "4.526"
        ],
        [
         "1",
         "8.3014",
         "21.0",
         "6.238137082601054",
         "0.9718804920913884",
         "2401.0",
         "2.109841827768014",
         "37.86",
         "-122.22",
         "3.585"
        ],
        [
         "2",
         "7.2574",
         "52.0",
         "8.288135593220339",
         "1.073446327683616",
         "496.0",
         "2.8022598870056497",
         "37.85",
         "-122.24",
         "3.521"
        ],
        [
         "3",
         "5.6431",
         "52.0",
         "5.817351598173516",
         "1.0730593607305936",
         "558.0",
         "2.547945205479452",
         "37.85",
         "-122.25",
         "3.413"
        ],
        [
         "4",
         "3.8462",
         "52.0",
         "6.281853281853282",
         "1.0810810810810811",
         "565.0",
         "2.1814671814671813",
         "37.85",
         "-122.25",
         "3.422"
        ]
       ],
       "shape": {
        "columns": 9,
        "rows": 5
       }
      },
      "text/html": [
       "<div>\n",
       "<style scoped>\n",
       "    .dataframe tbody tr th:only-of-type {\n",
       "        vertical-align: middle;\n",
       "    }\n",
       "\n",
       "    .dataframe tbody tr th {\n",
       "        vertical-align: top;\n",
       "    }\n",
       "\n",
       "    .dataframe thead th {\n",
       "        text-align: right;\n",
       "    }\n",
       "</style>\n",
       "<table border=\"1\" class=\"dataframe\">\n",
       "  <thead>\n",
       "    <tr style=\"text-align: right;\">\n",
       "      <th></th>\n",
       "      <th>MedInc</th>\n",
       "      <th>HouseAge</th>\n",
       "      <th>AveRooms</th>\n",
       "      <th>AveBedrms</th>\n",
       "      <th>Population</th>\n",
       "      <th>AveOccup</th>\n",
       "      <th>Latitude</th>\n",
       "      <th>Longitude</th>\n",
       "      <th>price</th>\n",
       "    </tr>\n",
       "  </thead>\n",
       "  <tbody>\n",
       "    <tr>\n",
       "      <th>0</th>\n",
       "      <td>8.3252</td>\n",
       "      <td>41.0</td>\n",
       "      <td>6.984127</td>\n",
       "      <td>1.023810</td>\n",
       "      <td>322.0</td>\n",
       "      <td>2.555556</td>\n",
       "      <td>37.88</td>\n",
       "      <td>-122.23</td>\n",
       "      <td>4.526</td>\n",
       "    </tr>\n",
       "    <tr>\n",
       "      <th>1</th>\n",
       "      <td>8.3014</td>\n",
       "      <td>21.0</td>\n",
       "      <td>6.238137</td>\n",
       "      <td>0.971880</td>\n",
       "      <td>2401.0</td>\n",
       "      <td>2.109842</td>\n",
       "      <td>37.86</td>\n",
       "      <td>-122.22</td>\n",
       "      <td>3.585</td>\n",
       "    </tr>\n",
       "    <tr>\n",
       "      <th>2</th>\n",
       "      <td>7.2574</td>\n",
       "      <td>52.0</td>\n",
       "      <td>8.288136</td>\n",
       "      <td>1.073446</td>\n",
       "      <td>496.0</td>\n",
       "      <td>2.802260</td>\n",
       "      <td>37.85</td>\n",
       "      <td>-122.24</td>\n",
       "      <td>3.521</td>\n",
       "    </tr>\n",
       "    <tr>\n",
       "      <th>3</th>\n",
       "      <td>5.6431</td>\n",
       "      <td>52.0</td>\n",
       "      <td>5.817352</td>\n",
       "      <td>1.073059</td>\n",
       "      <td>558.0</td>\n",
       "      <td>2.547945</td>\n",
       "      <td>37.85</td>\n",
       "      <td>-122.25</td>\n",
       "      <td>3.413</td>\n",
       "    </tr>\n",
       "    <tr>\n",
       "      <th>4</th>\n",
       "      <td>3.8462</td>\n",
       "      <td>52.0</td>\n",
       "      <td>6.281853</td>\n",
       "      <td>1.081081</td>\n",
       "      <td>565.0</td>\n",
       "      <td>2.181467</td>\n",
       "      <td>37.85</td>\n",
       "      <td>-122.25</td>\n",
       "      <td>3.422</td>\n",
       "    </tr>\n",
       "  </tbody>\n",
       "</table>\n",
       "</div>"
      ],
      "text/plain": [
       "   MedInc  HouseAge  AveRooms  AveBedrms  Population  AveOccup  Latitude  \\\n",
       "0  8.3252      41.0  6.984127   1.023810       322.0  2.555556     37.88   \n",
       "1  8.3014      21.0  6.238137   0.971880      2401.0  2.109842     37.86   \n",
       "2  7.2574      52.0  8.288136   1.073446       496.0  2.802260     37.85   \n",
       "3  5.6431      52.0  5.817352   1.073059       558.0  2.547945     37.85   \n",
       "4  3.8462      52.0  6.281853   1.081081       565.0  2.181467     37.85   \n",
       "\n",
       "   Longitude  price  \n",
       "0    -122.23  4.526  \n",
       "1    -122.22  3.585  \n",
       "2    -122.24  3.521  \n",
       "3    -122.25  3.413  \n",
       "4    -122.25  3.422  "
      ]
     },
     "execution_count": 47,
     "metadata": {},
     "output_type": "execute_result"
    }
   ],
   "source": [
    "#read the new data file\n",
    "df = pd.read_csv(Path(os.getcwd())/'data/external/new_housing_data.csv') \n",
    "df.head()"
   ]
  },
  {
   "cell_type": "markdown",
   "id": "0e65b5ee",
   "metadata": {},
   "source": [
    "### Step 2: Connect to AWS PostgreSQL"
   ]
  },
  {
   "cell_type": "code",
   "execution_count": 48,
   "id": "9a70f7c1",
   "metadata": {},
   "outputs": [
    {
     "name": "stdout",
     "output_type": "stream",
     "text": [
      "[2025-08-08 23:15:08,083 : INFO : common : Yaml file <_io.TextIOWrapper name='config\\\\secrets.yaml' mode='r' encoding='UTF-8'> loaded successfully!]\n"
     ]
    }
   ],
   "source": [
    "# Load DB credentials from secrets.yaml\n",
    "secrets = read_yaml(SECRET_PATH)\n",
    "db = secrets[\"PostGres_DB\"]\n",
    "\n",
    "# Create SQLAlchemy engine\n",
    "db_url = f\"postgresql://{db['DB_USER']}:{db['DB_PWD']}@{db['DB_HOST']}:{db['DB_PORT']}/{db['DB_NAME']}\"\n",
    "engine = create_engine(db_url)\n"
   ]
  },
  {
   "cell_type": "markdown",
   "id": "4fc51dd3",
   "metadata": {},
   "source": [
    "### Step 4: Upload to PostgreSQL (new_housing_data table)"
   ]
  },
  {
   "cell_type": "code",
   "execution_count": 49,
   "id": "52075565",
   "metadata": {},
   "outputs": [
    {
     "name": "stdout",
     "output_type": "stream",
     "text": [
      "✅ Data uploaded to new_housing_data table\n"
     ]
    }
   ],
   "source": [
    "# Write to a new table (overwrite if exists)\n",
    "df.to_sql(\"new_housing_data\", engine, if_exists=\"replace\", index=False)\n",
    "print(\"✅ Data uploaded to new_housing_data table\")\n"
   ]
  },
  {
   "cell_type": "markdown",
   "id": "bee800ed",
   "metadata": {},
   "source": [
    "### Step 5: Trigger FastAPI retraining"
   ]
  },
  {
   "cell_type": "code",
   "execution_count": 50,
   "id": "b9debea2",
   "metadata": {},
   "outputs": [
    {
     "name": "stdout",
     "output_type": "stream",
     "text": [
      "🎯 Retrain Trigger Response: {'message': 'Retraining started and completed successfully'}\n"
     ]
    }
   ],
   "source": [
    "try:\n",
    "    response = requests.post(\"http://localhost:8000/retrain\")\n",
    "    print(\"🎯 Retrain Trigger Response:\", response.json())\n",
    "except Exception as e:\n",
    "    print(\"❌ Could not connect to FastAPI server:\", e)\n"
   ]
  }
 ],
 "metadata": {
  "kernelspec": {
   "display_name": "Python 3",
   "language": "python",
   "name": "python3"
  },
  "language_info": {
   "codemirror_mode": {
    "name": "ipython",
    "version": 3
   },
   "file_extension": ".py",
   "mimetype": "text/x-python",
   "name": "python",
   "nbconvert_exporter": "python",
   "pygments_lexer": "ipython3",
   "version": "3.10.18"
  }
 },
 "nbformat": 4,
 "nbformat_minor": 5
}
